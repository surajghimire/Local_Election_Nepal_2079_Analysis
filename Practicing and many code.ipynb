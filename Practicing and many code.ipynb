{
 "cells": [
  {
   "cell_type": "code",
   "execution_count": null,
   "id": "17580eed",
   "metadata": {},
   "outputs": [],
   "source": [
    "import urllib2\n",
    "response = urllib2.urlopen('https://election.gov.np/np/page/sample-ballot')\n",
    "html = response.read()"
   ]
  },
  {
   "cell_type": "code",
   "execution_count": 7,
   "id": "fa95be28",
   "metadata": {},
   "outputs": [],
   "source": [
    "from bs4 import BeautifulSoup\n",
    "\n",
    "import requests\n",
    "r  = requests.get(\"https://election.gov.np/np/page/sample-ballot\")\n",
    "data = r.text\n",
    "soup = BeautifulSoup(data)\n",
    "\n",
    "for link in soup.find_all('a'):\n",
    "    print(link.get('href'))"
   ]
  },
  {
   "cell_type": "code",
   "execution_count": 9,
   "id": "1a10e1c7",
   "metadata": {},
   "outputs": [
    {
     "name": "stdout",
     "output_type": "stream",
     "text": [
      "Collecting httplib2\n",
      "  Downloading httplib2-0.20.4-py3-none-any.whl (96 kB)\n",
      "Requirement already satisfied: pyparsing!=3.0.0,!=3.0.1,!=3.0.2,!=3.0.3,<4,>=2.4.2 in c:\\users\\sghmr\\anaconda3\\lib\\site-packages (from httplib2) (3.0.4)\n",
      "Installing collected packages: httplib2\n",
      "Successfully installed httplib2-0.20.4\n"
     ]
    }
   ],
   "source": [
    "!pip3 install httplib2"
   ]
  },
  {
   "cell_type": "code",
   "execution_count": 10,
   "id": "b0756a4d",
   "metadata": {},
   "outputs": [
    {
     "ename": "AttributeError",
     "evalue": "'Doctype' object has no attribute 'has_attr'",
     "output_type": "error",
     "traceback": [
      "\u001b[1;31m---------------------------------------------------------------------------\u001b[0m",
      "\u001b[1;31mAttributeError\u001b[0m                            Traceback (most recent call last)",
      "\u001b[1;32m~\\AppData\\Local\\Temp/ipykernel_17500/3293027511.py\u001b[0m in \u001b[0;36m<module>\u001b[1;34m\u001b[0m\n\u001b[0;32m      6\u001b[0m \u001b[1;33m\u001b[0m\u001b[0m\n\u001b[0;32m      7\u001b[0m \u001b[1;32mfor\u001b[0m \u001b[0mlink\u001b[0m \u001b[1;32min\u001b[0m \u001b[0mBeautifulSoup\u001b[0m\u001b[1;33m(\u001b[0m\u001b[0mresponse\u001b[0m\u001b[1;33m,\u001b[0m \u001b[0mparse_only\u001b[0m\u001b[1;33m=\u001b[0m\u001b[0mSoupStrainer\u001b[0m\u001b[1;33m(\u001b[0m\u001b[1;34m'a'\u001b[0m\u001b[1;33m)\u001b[0m\u001b[1;33m)\u001b[0m\u001b[1;33m:\u001b[0m\u001b[1;33m\u001b[0m\u001b[1;33m\u001b[0m\u001b[0m\n\u001b[1;32m----> 8\u001b[1;33m     \u001b[1;32mif\u001b[0m \u001b[0mlink\u001b[0m\u001b[1;33m.\u001b[0m\u001b[0mhas_attr\u001b[0m\u001b[1;33m(\u001b[0m\u001b[1;34m'href'\u001b[0m\u001b[1;33m)\u001b[0m\u001b[1;33m:\u001b[0m\u001b[1;33m\u001b[0m\u001b[1;33m\u001b[0m\u001b[0m\n\u001b[0m\u001b[0;32m      9\u001b[0m         \u001b[0mprint\u001b[0m\u001b[1;33m(\u001b[0m\u001b[0mlink\u001b[0m\u001b[1;33m[\u001b[0m\u001b[1;34m'href'\u001b[0m\u001b[1;33m]\u001b[0m\u001b[1;33m)\u001b[0m\u001b[1;33m\u001b[0m\u001b[1;33m\u001b[0m\u001b[0m\n",
      "\u001b[1;32m~\\anaconda3\\lib\\site-packages\\bs4\\element.py\u001b[0m in \u001b[0;36m__getattr__\u001b[1;34m(self, attr)\u001b[0m\n\u001b[0;32m    867\u001b[0m             \u001b[1;32mreturn\u001b[0m \u001b[0mself\u001b[0m\u001b[1;33m\u001b[0m\u001b[1;33m\u001b[0m\u001b[0m\n\u001b[0;32m    868\u001b[0m         \u001b[1;32melse\u001b[0m\u001b[1;33m:\u001b[0m\u001b[1;33m\u001b[0m\u001b[1;33m\u001b[0m\u001b[0m\n\u001b[1;32m--> 869\u001b[1;33m             raise AttributeError(\n\u001b[0m\u001b[0;32m    870\u001b[0m                 \"'%s' object has no attribute '%s'\" % (\n\u001b[0;32m    871\u001b[0m                     self.__class__.__name__, attr))\n",
      "\u001b[1;31mAttributeError\u001b[0m: 'Doctype' object has no attribute 'has_attr'"
     ]
    }
   ],
   "source": [
    "import httplib2\n",
    "from bs4 import BeautifulSoup, SoupStrainer\n",
    "\n",
    "http = httplib2.Http()\n",
    "status, response = http.request('https://election.gov.np/np/page/sample-ballot')\n",
    "\n",
    "for link in BeautifulSoup(response, parse_only=SoupStrainer('a')):\n",
    "    if link.has_attr('href'):\n",
    "        print(link['href'])"
   ]
  },
  {
   "cell_type": "code",
   "execution_count": 5,
   "id": "8daf5aaf",
   "metadata": {},
   "outputs": [
    {
     "ename": "NameError",
     "evalue": "name 'a' is not defined",
     "output_type": "error",
     "traceback": [
      "\u001b[1;31m---------------------------------------------------------------------------\u001b[0m",
      "\u001b[1;31mNameError\u001b[0m                                 Traceback (most recent call last)",
      "\u001b[1;32m~\\AppData\\Local\\Temp/ipykernel_17500/1189138062.py\u001b[0m in \u001b[0;36m<module>\u001b[1;34m\u001b[0m\n\u001b[1;32m----> 1\u001b[1;33m \u001b[0mprint\u001b[0m\u001b[1;33m(\u001b[0m\u001b[0ma\u001b[0m\u001b[1;33m)\u001b[0m\u001b[1;33m\u001b[0m\u001b[1;33m\u001b[0m\u001b[0m\n\u001b[0m",
      "\u001b[1;31mNameError\u001b[0m: name 'a' is not defined"
     ]
    }
   ],
   "source": [
    "print(a)"
   ]
  },
  {
   "cell_type": "code",
   "execution_count": 11,
   "id": "2c012896",
   "metadata": {},
   "outputs": [
    {
     "name": "stdout",
     "output_type": "stream",
     "text": [
      "[None, '//slashdot.org', '//slashdot.org', '//slashdot.org/recent', '//slashdot.org/popular', '//slashdot.org/polls', 'https://slashdot.org/software/', 'https://www.slashdotstore.com', '//slashdot.org/submission', '//slashdot.org/my/login', '//slashdot.org/my/newuser', '//devices.slashdot.org', '//build.slashdot.org', '//entertainment.slashdot.org', '//technology.slashdot.org', '//slashdot.org/?fhfilter=opensource', '//science.slashdot.org', '//yro.slashdot.org', 'http://rss.slashdot.org/Slashdot/slashdotMain', 'http://www.facebook.com/slashdot', 'https://www.linkedin.com/company/slashdot', 'http://twitter.com/slashdot', 'https://www.youtube.com/channel/UCsW36751Gy-EAbHQwe9WBNw', '//slashdot.org/newsletter', '//slashdot.org/submission', '//slashdot.org/my/mailpassword', '', None, None, None, None, None, None, None, None, None, None, None, None, None, None, None, None, None, None, None, None, None, None, None, None, None, None, None, None, 'https://sourceforge.net/p/forge/documentation/GitHub%20Importer/', 'https://sourceforge.net/p/import_project/github/', '', '//slashdot.org/index2.pl?fhfilter=power', '//hardware.slashdot.org/story/22/05/14/2130225/nuclear-energy-the-case-against', 'https://www.theguardian.com/books/2022/may/14/poisoned-legacy-why-the-future-of-power-cant-be-nuclear', '//hardware.slashdot.org/story/22/05/14/2130225/nuclear-energy-the-case-against#comments', 'https://www.theguardian.com/books/2022/may/14/poisoned-legacy-why-the-future-of-power-cant-be-nuclear', 'https://wwnorton.com/books/9781324021049', 'https://www.theguardian.com/environment/fukushima', 'https://www.terrapower.com/people/bill-gates/', 'https://www.theguardian.com/environment/nuclearpower', '//slashdot.org/index2.pl?fhfilter=government', '//yro.slashdot.org/story/22/05/14/0430227/americas-faa-shifts-gears-slightly-on-certifying-future-flying-taxi-pilots', 'https://www.avweb.com/aviation-news/after-dot-audit-faa-reverses-on-evtol-certification-criteria/', '//yro.slashdot.org/story/22/05/14/0430227/americas-faa-shifts-gears-slightly-on-certifying-future-flying-taxi-pilots#comments', 'https://tech.slashdot.org/story/19/01/24/0211234/boeings-first-autonomous-air-taxi-flight-ends-in-fewer-than-60-seconds', 'https://tech.slashdot.org/story/20/04/18/0348241/air-force-official-sees-use-of-flying-cars-by-2023', 'https://tech.slashdot.org/story/21/06/11/167238/airlines-plan-to-plow-billions-into-flying-taxis', '/~wired_parrot', 'https://www.avweb.com/aviation-news/after-dot-audit-faa-reverses-on-evtol-certification-criteria/', 'https://slashdot.org/submission/15937182/faa-shifts-gear-on-certifying-evtols-as-concern-grows', 'https://www.flyingmag.com/four-issues-evtol-future/', 'https://www.avweb.com/aviation-news/after-dot-audit-faa-reverses-on-evtol-certification-criteria/', 'https://www.msn.com/en-us/money/companies/us-faa-shifts-gears-on-certifying-future-flying-taxi-pilots/ar-AAX7ZfU', '//slashdot.org/index2.pl?fhfilter=social', '//tech.slashdot.org/story/22/05/14/2026232/should-social-networks-let-you-take-your-followers-to-other-services', 'https://www.msn.com/en-us/news/technology/followers-are-a-valuable-currency-who-should-own-them/ar-AAXfrUU', '//tech.slashdot.org/story/22/05/14/2026232/should-social-networks-let-you-take-your-followers-to-other-services#comments', 'https://myfriendsmydata.org/', 'https://www.msn.com/en-us/news/technology/followers-are-a-valuable-currency-who-should-own-them/ar-AAXfrUU', 'https://www.washingtonpost.com/technology/2022/04/08/algospeak-tiktok-le-dollar-bean/?itid=lk_inline_manual_10', '//slashdot.org/index2.pl?fhfilter=linux', '//linux.slashdot.org/story/22/05/14/1913237/centos-successor-rocky-linux-gets-26m-to-fund-push-into-enterprise-space', 'https://www.zdnet.com/article/rocky-linux-developer-lands-26m-funding-for-enterprise-open-source-push/', '//linux.slashdot.org/story/22/05/14/1913237/centos-successor-rocky-linux-gets-26m-to-fund-push-into-enterprise-space#comments', 'https://www.zdnet.com/article/rocky-linux-developer-lands-26m-funding-for-enterprise-open-source-push/', 'https://www.zdnet.com/article/goodbye-centos-hello-rocky-linux/', 'https://cloud.google.com/blog/products/compute/google-partners-with-ciq-on-rocky-linux', 'https://venturebeat.com/2022/05/11/rocky-linux-developer-ciq-raises-26m-to-recreate-centos-for-enterprises/', '//slashdot.org/index2.pl?fhfilter=security', '//it.slashdot.org/story/22/05/14/1838213/hackers-are-exploiting-wordpress-tools-to-hawk-scams', 'https://blog.sucuri.net/2022/05/massive-wordpress-javascript-injection-campaign-redirects-to-ads.html', '//it.slashdot.org/story/22/05/14/1838213/hackers-are-exploiting-wordpress-tools-to-hawk-scams#comments', 'https://gizmodo.com/hackers-wordpress-themes-plugins-scams-1848918235', 'https://blog.sucuri.net/2022/05/massive-wordpress-javascript-injection-campaign-redirects-to-ads.html', 'https://sucuri.net/reports/2021-hacked-website-report/', 'https://publicwww.com/websites/%22legendarytable.com%22/', 'https://publicwww.com/websites/%22drakefollow.com%22/', '//slashdot.org/index2.pl?fhfilter=python', '//developers.slashdot.org/story/22/05/14/027245/want-to-run-python-code-in-a-browser-soon-you-might-be-able-to', 'https://www.zdnet.com/article/programming-languages-want-to-run-python-code-in-a-browser-soon-you-might-be-able-to/', '//developers.slashdot.org/story/22/05/14/027245/want-to-run-python-code-in-a-browser-soon-you-might-be-able-to#comments', 'https://www.zdnet.com/article/programming-languages-want-to-run-python-code-in-a-browser-soon-you-might-be-able-to/', 'https://webassembly.org/', 'https://pyfound.blogspot.com/2022/05/the-2022-python-language-summit-python.html', 'https://anaconda.cloud/pyscript-python-in-the-browser', 'http://pyodide.org/', 'https://pyodide.org/en/stable/usage/api/micropip-api.html', '//slashdot.org/tag/', '//slashdot.org/index2.pl?fhfilter=mars', '//science.slashdot.org/story/22/05/14/041216/after-28-flights-is-nasas-ingenuity-mars-helicopter-nearing-the-end-of-its-life', 'https://www.msn.com/en-us/news/technology/nasa-s-mars-helicopter-was-supposed-to-fly-five-times-it-s-flown-28/ar-AAXeq0V', '//science.slashdot.org/story/22/05/14/041216/after-28-flights-is-nasas-ingenuity-mars-helicopter-nearing-the-end-of-its-life#comments', 'https://mars.nasa.gov/technology/helicopter/#Watch-Online', 'https://www.msn.com/en-us/news/technology/nasa-s-mars-helicopter-was-supposed-to-fly-five-times-it-s-flown-28/ar-AAXeq0V', 'https://mars.nasa.gov/technology/helicopter/status/379/nasas-ingenuity-in-contact-with-perseverance-rover-after-communications-dropout/', 'https://www.nasa.gov/press-release/nasa-s-ingenuity-mars-helicopter-succeeds-in-historic-first-flight', 'https://astronomy.com/news/2021/04/fabric-from-the-original-wright-flyer-takes-flight-on-mars', '//slashdot.org/index2.pl?fhfilter=tv', '//entertainment.slashdot.org/story/22/05/13/2338254/faa-revokes-certificates-of-two-pilots-involved-in-plane-swapping-attempt', 'https://www.cbs8.com/article/news/nation-world/faa-revokes-licenses-of-pilots-involved-in-red-bull-plane-swapping-stunt-aikins/507-c808e697-453f-4e47-8fe2-da672af15d5d', '//entertainment.slashdot.org/story/22/05/13/2338254/faa-revokes-certificates-of-two-pilots-involved-in-plane-swapping-attempt#comments', 'https://entertainment.slashdot.org/story/22/04/24/238208/two-skydiving-pilots-try-to-change-planes-in-mid-air', 'https://youtu.be/3dtkaRPyASY', 'https://www.cbs8.com/article/news/nation-world/faa-revokes-licenses-of-pilots-involved-in-red-bull-plane-swapping-stunt-aikins/507-c808e697-453f-4e47-8fe2-da672af15d5d', 'https://www.instagram.com/p/Cc7Z360O8Sw/', '//slashdot.org/index2.pl?fhfilter=programming', '//developers.slashdot.org/story/22/05/14/0050253/security-expert-nabs-expired-domain-for-a-popular-npm-librarys-email-address', 'https://www.theregister.com/2022/05/10/security_npm_email/', '//developers.slashdot.org/story/22/05/14/0050253/security-expert-nabs-expired-domain-for-a-popular-npm-librarys-email-address#comments', 'https://www.theregister.com/2022/05/10/security_npm_email/', 'https://twitter.com/lrvick/status/1523787247706951680?s=20', 'https://twitter.com/lrvick/status/1523827875685806081?s=20', 'https://arxiv.org/abs/2112.10165', 'https://www.theregister.com/2020/03/16/microsofts_github_npm/', 'https://developer.mozilla.org/en-US/docs/Web/JavaScript/Reference/Global_Objects/Array/forEach', 'https://www.theregister.com/2016/03/23/npm_left_pad_chaos/', 'https://developer.mozilla.org/en-US/docs/Web/JavaScript/Reference/Global_Objects/String/padStart', 'https://github.blog/2022-05-10-enhanced-2fa-experience-for-your-npm-account/', '//slashdot.org/index2.pl?fhfilter=security', '//it.slashdot.org/story/22/05/14/0336214/white-house-joins-openssf-linux-foundation-in-securing-open-source-software', 'https://www.zdnet.com/article/white-house-joins-openssf-and-the-linux-foundation-in-securing-open-source-software/', '//it.slashdot.org/story/22/05/14/0336214/white-house-joins-openssf-linux-foundation-in-securing-open-source-software#comments', 'https://twitter.com/BeauHD', 'https://www.whitehouse.gov/briefing-room/presidential-actions/2021/05/12/executive-order-on-improving-the-nations-cybersecurity/', 'https://it.slashdot.org/story/21/06/05/0245238/hackers-breached-colonial-pipeline-using-compromised-password', 'https://it.slashdot.org/story/20/12/15/1810225/solarwinds-says-18000-customers-were-impacted-by-recent-hack', 'https://www.zdnet.com/article/white-house-joins-openssf-and-the-linux-foundation-in-securing-open-source-software/', 'https://aws.amazon.com/blogs/opensource/aws-investing-an-additional-10-million-in-open-source-supply-chain-security/?sc_channel=sm&sc_campaign=Open_Source&sc_publisher=TWITTER&sc_geo=GLOBAL&sc_outcome=awareness&trk=Open_Source', '//slashdot.org/tag/', '//slashdot.org/index2.pl?fhfilter=music', '//entertainment.slashdot.org/story/22/05/14/0327259/classic-japanese-audio-brand-onkyo-files-for-bankruptcy', 'https://asia.nikkei.com/Business/Companies/Classic-Japanese-audio-brand-Onkyo-files-for-bankruptcy', '//entertainment.slashdot.org/story/22/05/14/0327259/classic-japanese-audio-brand-onkyo-files-for-bankruptcy#comments', 'https://twitter.com/BeauHD', 'https://asia.nikkei.com/Business/Companies/Classic-Japanese-audio-brand-Onkyo-files-for-bankruptcy', 'https://www.audioholics.com/editorials/onkyo-usa-distribution-klipsch', 'https://slashdot.org/index2.pl?fhfilter=onkyo', 'https://hardware.slashdot.org/story/03/01/15/0246221/embedded-linux-in-onkyos-home-music-server', '//slashdot.org/tag/', '//slashdot.org/index2.pl?fhfilter=government', '//yro.slashdot.org/story/22/05/14/0310249/house-of-representatives-to-give-staff-free-peloton-memberships', 'https://freebeacon.com/politics/taxpayers-pony-up-to-give-all-house-staff-peloton-memberships/', '//yro.slashdot.org/story/22/05/14/0310249/house-of-representatives-to-give-staff-free-peloton-memberships#comments', 'https://twitter.com/BeauHD', '/~schwit1', 'https://freebeacon.com/politics/taxpayers-pony-up-to-give-all-house-staff-peloton-memberships/', 'https://www.foxbusiness.com/politics/house-representatives-staff-free-peloton-memberships-cost-taxpayers', 'https://www.marketwatch.com/story/peloton-turns-to-washington-lobbying-11614981180', '//slashdot.org/tag/', '//slashdot.org/index2.pl?fhfilter=security', '//it.slashdot.org/story/22/05/13/2155201/hackers-are-using-seo-to-rank-malicious-pdfs-on-search-engines-research-finds', '//it.slashdot.org/story/22/05/13/2155201/hackers-are-using-seo-to-rank-malicious-pdfs-on-search-engines-research-finds#comments', 'https://twitter.com/BeauHD', 'https://www.netskope.com/press-releases/netskope-research-finds-sharp-increase-in-phishing-downloads-as-cybercriminals-leverage-seo-to-lure-victims', 'https://venturebeat.com/2022/05/09/researchers-hackers-using-seo/', '//slashdot.org/tag/', '//slashdot.org/index2.pl?fhfilter=transportation', '//tech.slashdot.org/story/22/05/13/2149243/san-francisco-police-are-using-driverless-cars-as-mobile-surveillance-cameras', 'https://www.vice.com/en/article/v7dw8x/san-francisco-police-are-using-driverless-cars-as-mobile-surveillance-cameras', '//tech.slashdot.org/story/22/05/13/2149243/san-francisco-police-are-using-driverless-cars-as-mobile-surveillance-cameras#comments', 'https://twitter.com/BeauHD', '/~BeerFartMoron', 'https://www.vice.com/en/article/v7dw8x/san-francisco-police-are-using-driverless-cars-as-mobile-surveillance-cameras', 'https://s3.documentcloud.org/documents/21970950/av-interaction-guidelines-sfpd.pdf', '//slashdot.org/tag/', '//slashdot.org/index2.pl?fhfilter=att', '//yro.slashdot.org/story/22/05/13/2137216/att-is-about-to-get-away-with-its-bogus-199-administrative-fee', 'https://www.theverge.com/2022/5/12/23069156/att-vianu-lawsuit-class-action-administrative-fee', '//yro.slashdot.org/story/22/05/13/2137216/att-is-about-to-get-away-with-its-bogus-199-administrative-fee#comments', 'https://twitter.com/BeauHD', 'https://news.slashdot.org/story/13/05/24/1210203/att-quietly-adds-charges-to-all-contract-cell-plans', 'https://news.slashdot.org/story/18/06/27/215211/att-is-screwing-customers-by-almost-tripling-a-bogus-fee', 'https://www.theverge.com/2022/5/12/23069156/att-vianu-lawsuit-class-action-administrative-fee', 'http://www.attvianuclassactionsettlement.com/', '//slashdot.org/tag/', '#', '//slashdot.org/?page=1', '//slashdot.org/newsletter', 'http://deals.slashdot.org/', '/poll/3220/where-do-you-think-the-price-bottom-is-for-bitcoin-this-cycle', '/poll/3220/where-do-you-think-the-price-bottom-is-for-bitcoin-this-cycle', '//slashdot.org/polls', '/poll/3220/where-do-you-think-the-price-bottom-is-for-bitcoin-this-cycle', '//news.slashdot.org/story/22/05/12/2217249/report-carbon-bombs-are-poised-to-screw-us-over-big-time?sbsrc=md', '//yro.slashdot.org/story/22/05/13/2111205/startup-raises-17-million-to-develop-smart-gun?sbsrc=md', '//mobile.slashdot.org/story/22/05/12/2150235/its-2022-phones-should-be-built-to-last-five-years-or-more?sbsrc=md', '//news.slashdot.org/story/22/05/13/2013221/calling-a-man-bald-counts-as-sexual-harassment-uk-judge-rules?sbsrc=md', '//it.slashdot.org/story/22/05/13/2045237/elon-musk-says-twitter-deal-temporarily-on-hold-over-spam?sbsrc=md', '//ask.slashdot.org', '//hardware.slashdot.org/story/22/02/23/2251233/ask-slashdot-is-it-time-to-replace-file-systems?utm_source=rss0.9mainlinkanon&utm_medium=feed&sbsrc=askslashdot', '//ask.slashdot.org/story/22/02/06/0217227/ask-slashdot-how-can-you-keep-your-credit-card-numbers-from-being-stolen?utm_source=rss0.9mainlinkanon&utm_medium=feed&sbsrc=askslashdot', '//ask.slashdot.org/story/22/02/01/2135250/ask-slashdot-best-google-workplace-g-suite-alternatives?utm_source=rss0.9mainlinkanon&utm_medium=feed&sbsrc=askslashdot', '//ask.slashdot.org/story/22/01/29/0445238/ask-slashdot-do-you-test-your-web-pages-with-microsoft-edge?utm_source=rss0.9mainlinkanon&utm_medium=feed&sbsrc=askslashdot', '//ask.slashdot.org/story/22/01/10/0222241/ask-slashdot-why-do-programmers-make-so-many-mistakes?utm_source=rss0.9mainlinkanon&utm_medium=feed&sbsrc=askslashdot', '', '//news.slashdot.org/story/10/05/14/1647239/too-many-college-graduates?sbsrc=thisday', '//yro.slashdot.org/story/08/05/14/125244/mormon-church-goes-after-wikileaks?sbsrc=thisday', '//yro.slashdot.org/story/07/05/14/0018242/microsoft-says-free-software-violates-235-patents?sbsrc=thisday', '//hardware.slashdot.org/story/04/05/14/1453252/the-logic-behind-metric-paper-sizes?sbsrc=thisday', '//linux.slashdot.org/story/03/05/14/2053236/sco-drops-linux-says-current-vendors-may-be-liable?sbsrc=thisday', '', 'https://sourceforge.net/projects/corefonts/?source=sd_slashbox', 'https://sourceforge.net/projects/npppluginmgr/?source=sd_slashbox', 'https://sourceforge.net/projects/vlc/?source=sd_slashbox', 'https://sourceforge.net/projects/emule/?source=sd_slashbox', 'https://sourceforge.net/projects/mingw/?source=sd_slashbox', 'https://sourceforge.net/?source=sd_slashbox', '//slashdot.org', '//slashdot.org/?issue=20220514', '//slashdot.org/?issue=20220513', '//slashdot.org/?issue=20220512', '//slashdot.org/?issue=20220511', '//slashdot.org/?issue=20220510', '//slashdot.org/?issue=20220509', '//slashdot.org/?issue=20220508', '//slashdot.org/?issue=20220507', '/submit', '//slashdot.org/faq', '//slashdot.org/archive.pl', '//slashdot.org/hof.shtml', 'https://slashdotmedia.com/advertising-and-marketing-services/', 'https://slashdotmedia.com/terms-of-use/', 'https://slashdotmedia.com/privacy-statement/', '//slashdot.org/faq/slashmeta.shtml', 'mailto:feedback@slashdot.org', '#', '//slashdot.org/blog', '#', '#', '#', '//slashdot.org']\n"
     ]
    }
   ],
   "source": [
    "from bs4 import BeautifulSoup\n",
    "from urllib.request import Request, urlopen\n",
    "import re\n",
    "\n",
    "req = Request(\"http://slashdot.org\")\n",
    "html_page = urlopen(req)\n",
    "\n",
    "soup = BeautifulSoup(html_page, \"lxml\")\n",
    "\n",
    "links = []\n",
    "for link in soup.findAll('a'):\n",
    "    links.append(link.get('href'))\n",
    "\n",
    "print(links)"
   ]
  },
  {
   "cell_type": "code",
   "execution_count": 19,
   "id": "79da4b2f",
   "metadata": {},
   "outputs": [
    {
     "name": "stdout",
     "output_type": "stream",
     "text": [
      "['https://sourceforge.net/p/import_project/github/', 'https://www.theguardian.com/books/2022/may/14/poisoned-legacy-why-the-future-of-power-cant-be-nuclear', 'https://www.theguardian.com/books/2022/may/14/poisoned-legacy-why-the-future-of-power-cant-be-nuclear', 'https://wwnorton.com/books/9781324021049', 'https://www.theguardian.com/environment/fukushima']\n"
     ]
    }
   ],
   "source": [
    "from bs4 import BeautifulSoup\n",
    "from urllib.request import Request, urlopen\n",
    "import re\n",
    "\n",
    "req = Request(\"http://slashdot.org\")\n",
    "html_page = urlopen(req)\n",
    "\n",
    "soup = BeautifulSoup(html_page, \"lxml\")\n",
    "\n",
    "links = []\n",
    "#for link in soup.findAll('a'):\n",
    "#    links.append(link.get('href'))\n",
    "for link in soup.findAll('a', attrs={'href': re.compile(\"^https://\")}):\n",
    "    links.append(link.get('href'))\n",
    "print(links[5:10])"
   ]
  },
  {
   "cell_type": "code",
   "execution_count": 15,
   "id": "94ca2717",
   "metadata": {},
   "outputs": [
    {
     "ename": "ModuleNotFoundError",
     "evalue": "No module named 'urllib2'",
     "output_type": "error",
     "traceback": [
      "\u001b[1;31m---------------------------------------------------------------------------\u001b[0m",
      "\u001b[1;31mModuleNotFoundError\u001b[0m                       Traceback (most recent call last)",
      "\u001b[1;32m~\\AppData\\Local\\Temp/ipykernel_17500/747161001.py\u001b[0m in \u001b[0;36m<module>\u001b[1;34m\u001b[0m\n\u001b[0;32m      1\u001b[0m \u001b[1;32mfrom\u001b[0m \u001b[0mbs4\u001b[0m \u001b[1;32mimport\u001b[0m \u001b[0mBeautifulSoup\u001b[0m\u001b[1;33m\u001b[0m\u001b[1;33m\u001b[0m\u001b[0m\n\u001b[1;32m----> 2\u001b[1;33m \u001b[1;32mimport\u001b[0m \u001b[0murllib2\u001b[0m\u001b[1;33m\u001b[0m\u001b[1;33m\u001b[0m\u001b[0m\n\u001b[0m\u001b[0;32m      3\u001b[0m \u001b[1;32mimport\u001b[0m \u001b[0mre\u001b[0m\u001b[1;33m\u001b[0m\u001b[1;33m\u001b[0m\u001b[0m\n\u001b[0;32m      4\u001b[0m \u001b[1;33m\u001b[0m\u001b[0m\n\u001b[0;32m      5\u001b[0m \u001b[0mhtml_page\u001b[0m \u001b[1;33m=\u001b[0m \u001b[0murllib2\u001b[0m\u001b[1;33m.\u001b[0m\u001b[0murlopen\u001b[0m\u001b[1;33m(\u001b[0m\u001b[1;34m\"https://arstechnica.com\"\u001b[0m\u001b[1;33m)\u001b[0m\u001b[1;33m\u001b[0m\u001b[1;33m\u001b[0m\u001b[0m\n",
      "\u001b[1;31mModuleNotFoundError\u001b[0m: No module named 'urllib2'"
     ]
    }
   ],
   "source": [
    "from bs4 import BeautifulSoup\n",
    "import urllib2\n",
    "import re\n",
    "\n",
    "html_page = urllib2.urlopen(\"https://arstechnica.com\")\n",
    "soup = BeautifulSoup(html_page)\n",
    "links = []\n",
    "\n",
    "for link in soup.findAll('a', attrs={'href': re.compile(\"^http://\")}):\n",
    "    links.append(link.get('href'))\n",
    "\n",
    "print(links)"
   ]
  },
  {
   "cell_type": "code",
   "execution_count": null,
   "id": "0d9642ad",
   "metadata": {},
   "outputs": [],
   "source": []
  }
 ],
 "metadata": {
  "kernelspec": {
   "display_name": "Python 3 (ipykernel)",
   "language": "python",
   "name": "python3"
  },
  "language_info": {
   "codemirror_mode": {
    "name": "ipython",
    "version": 3
   },
   "file_extension": ".py",
   "mimetype": "text/x-python",
   "name": "python",
   "nbconvert_exporter": "python",
   "pygments_lexer": "ipython3",
   "version": "3.9.7"
  }
 },
 "nbformat": 4,
 "nbformat_minor": 5
}
